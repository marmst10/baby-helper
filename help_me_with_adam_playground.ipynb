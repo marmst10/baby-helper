{
 "cells": [
  {
   "cell_type": "code",
   "execution_count": 14,
   "metadata": {},
   "outputs": [],
   "source": [
    "import pandas as pd\n",
    "import numpy as np\n",
    "import os\n",
    "import json\n",
    "from datetime import datetime\n",
    "import time"
   ]
  },
  {
   "cell_type": "code",
   "execution_count": 15,
   "metadata": {},
   "outputs": [
    {
     "name": "stdout",
     "output_type": "stream",
     "text": [
      "[04/19/24 - 23:07:33]  INITIALIZING EVENTS ANALYZER\n",
      "       date      time  order         event classification  quantity\n",
      "0  04/19/24  23:07:33    NaN  START RECORD   start record       NaN\n",
      "1  04/20/24  00:30:00    NaN       wake up            NaN       NaN\n"
     ]
    }
   ],
   "source": [
    "example_entry = {\n",
    "    'date':'04/20/24',\n",
    "    'time':'00:30:00',\n",
    "    'event':'wake up'\n",
    "}\n",
    "\n",
    "def timestamp():\n",
    "    return datetime.now().strftime(\"[%m/%d/%y - %H:%M:%S] \")\n",
    "def get_date():\n",
    "    return datetime.now().strftime(\"%m/%d/%y\")\n",
    "def get_time():\n",
    "    return datetime.now().strftime(\"%H:%M:%S\")\n",
    "\n",
    "class events_analyzer():\n",
    "    def __init__(self, records = None):\n",
    "        print(f\"{timestamp()} INITIALIZING EVENTS ANALYZER\")\n",
    "        self.events = pd.DataFrame(columns=['date','time','order','event','classification','quantity'])\n",
    "\n",
    "        if not pd.isnull(records):\n",
    "            for entry in records:\n",
    "                self.append_entry(entry)\n",
    "\n",
    "        else:\n",
    "            entry = {\n",
    "                'event':'START RECORD',\n",
    "                'classification':'start record'\n",
    "            }\n",
    "            self.append_entry(entry)\n",
    "\n",
    "    def append_entry(self,entry):\n",
    "        if 'date' not in entry.keys():\n",
    "            entry['date'] = get_date()\n",
    "        if 'time' not in entry.keys():\n",
    "            entry['time'] = get_time()\n",
    "        self.events.loc[self.events.index.size] = entry\n",
    "\n",
    "    def wake_up(self):\n",
    "        entry = {}\n",
    "        entry['date'] = get_date()\n",
    "        entry['time'] = get_time()\n",
    "        entry['event'] = 'wake up'\n",
    "        entry['classification'] = 'end sleep'\n",
    "\n",
    "        starts = ['START RECORD','go to sleep']\n",
    "        if len(set(starts).intersection(set(self.events['event'])))>0:\n",
    "            start_time = self.events['time'][self.events['event'].isin(starts)].iloc[-1]\n",
    "            start_date = self.events['date'][self.events['event'].isin(starts)].iloc[-1]\n",
    "            \n",
    "    def display(self):\n",
    "        print(self.events)\n",
    "\n",
    "test = events_analyzer()\n",
    "test.append_entry(example_entry)\n",
    "test.display()\n",
    "        "
   ]
  },
  {
   "cell_type": "code",
   "execution_count": 17,
   "metadata": {},
   "outputs": [
    {
     "name": "stdout",
     "output_type": "stream",
     "text": [
      "t1: 2024-04-20 00:30:00\n",
      "t2: 2024-04-20 00:45:00\n"
     ]
    }
   ],
   "source": [
    "example_entry1 = {\n",
    "    'date':'04/20/24',\n",
    "    'time':'00:30:00',\n",
    "    'event':'wake up'\n",
    "}\n",
    "\n",
    "example_entry2 = {\n",
    "    'date':'04/20/24',\n",
    "    'time':'00:45:00',\n",
    "    'event':'wake up'\n",
    "}\n",
    "\n",
    "t1_string = example_entry1['date'] + ' ' + example_entry1['time']\n",
    "t1 = datetime.strptime(t1_string, \"%m/%d/%y %H:%M:%S\")\n",
    "\n",
    "t2_string = example_entry2['date'] + ' ' + example_entry2['time']\n",
    "t2 = datetime.strptime(t2_string, \"%m/%d/%y %H:%M:%S\")\n",
    "\n",
    "print(f\"t1: {t1}\")\n",
    "print(f\"t2: {t2}\")"
   ]
  },
  {
   "cell_type": "code",
   "execution_count": null,
   "metadata": {},
   "outputs": [],
   "source": []
  }
 ],
 "metadata": {
  "kernelspec": {
   "display_name": "Python 3",
   "language": "python",
   "name": "python3"
  },
  "language_info": {
   "codemirror_mode": {
    "name": "ipython",
    "version": 3
   },
   "file_extension": ".py",
   "mimetype": "text/x-python",
   "name": "python",
   "nbconvert_exporter": "python",
   "pygments_lexer": "ipython3",
   "version": "3.11.9"
  },
  "orig_nbformat": 4
 },
 "nbformat": 4,
 "nbformat_minor": 2
}
